{
 "cells": [
  {
   "cell_type": "code",
   "execution_count": 15,
   "id": "flush-holmes",
   "metadata": {},
   "outputs": [
    {
     "name": "stdout",
     "output_type": "stream",
     "text": [
      "문재인 총 검색 수 : 100\n",
      "문재인_twit.csv SAVED\n",
      "이재명 총 검색 수 : 100\n",
      "이재명_twit.csv SAVED\n",
      "이낙연 총 검색 수 : 100\n",
      "이낙연_twit.csv SAVED\n",
      "윤석열 총 검색 수 : 100\n",
      "윤석열_twit.csv SAVED\n",
      "홍준표 총 검색 수 : 100\n",
      "홍준표_twit.csv SAVED\n"
     ]
    }
   ],
   "source": [
    "import twitter\n",
    "import pandas as pd\n",
    "import os\n",
    "\n",
    "\n",
    "twitter_consumer_key = \"\"\n",
    "twitter_consumer_secret = \"\"  \n",
    "twitter_access_token = \"\"\n",
    "twitter_access_secret = \"\"\n",
    "\n",
    "twitter_api = twitter.Api(consumer_key=twitter_consumer_key,\n",
    "                          consumer_secret=twitter_consumer_secret, \n",
    "                          access_token_key=twitter_access_token, \n",
    "                          access_token_secret=twitter_access_secret)\n",
    "\n",
    "\n",
    "query = [\"문재인\", \"이재명\", \"이낙연\", \"윤석열\", \"홍준표\"]\n",
    "\n",
    "for name in query:\n",
    "    cnt = 0\n",
    "    text = []\n",
    "    \n",
    "    statuses = twitter_api.GetSearch(term=name, count=100, since=\"2021-03-01\")\n",
    "    for status in statuses:\n",
    "        text.append(status.text.strip())\n",
    "        cnt += 1\n",
    "    print('%s 총 검색 수 : %d'%(name,cnt))\n",
    "\n",
    "    df = pd.DataFrame(text)\n",
    "    df.columns = [\"text\"]\n",
    "    \n",
    "    if not os.path.exists(\"./data\"):\n",
    "        os.makedirs(\"./data\")\n",
    "    df.to_csv(\"./data/%s_twit.csv\"%name, header=True, index=False, encoding=\"utf-8\")\n",
    "    print('%s_twit.csv SAVED'%name)"
   ]
  }
 ],
 "metadata": {
  "kernelspec": {
   "display_name": "Python 3",
   "language": "python",
   "name": "python3"
  },
  "language_info": {
   "codemirror_mode": {
    "name": "ipython",
    "version": 3
   },
   "file_extension": ".py",
   "mimetype": "text/x-python",
   "name": "python",
   "nbconvert_exporter": "python",
   "pygments_lexer": "ipython3",
   "version": "3.8.8"
  }
 },
 "nbformat": 4,
 "nbformat_minor": 5
}
